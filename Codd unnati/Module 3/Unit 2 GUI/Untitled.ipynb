{
 "cells": [
  {
   "cell_type": "code",
   "execution_count": 1,
   "id": "1b5c1640",
   "metadata": {},
   "outputs": [],
   "source": [
    "import tkinter as tk"
   ]
  },
  {
   "cell_type": "code",
   "execution_count": 16,
   "id": "c35f459a",
   "metadata": {},
   "outputs": [],
   "source": [
    "window = tk.Tk()\n",
    "window.title('Welcome to goa singham')\n",
    "\n",
    "label = tk.Label(window,text = 'Hi i am yash lathiya',font=(\"Arial Bold\",40)).pack()\n",
    "\n",
    "window.mainloop()"
   ]
  },
  {
   "cell_type": "code",
   "execution_count": 17,
   "id": "d85dc18b",
   "metadata": {},
   "outputs": [],
   "source": [
    "window = tk.Tk()\n",
    "window.title('Welcome to goa singham')\n",
    "\n",
    "label = tk.Label(window,text = 'Hi i am yash lathiya',font=(\"Arial Bold\",40)).grid(column = 0,row = 0)\n",
    "\n",
    "window.mainloop()"
   ]
  },
  {
   "cell_type": "code",
   "execution_count": 39,
   "id": "21734f3f",
   "metadata": {},
   "outputs": [],
   "source": [
    "window = tk.Tk()\n",
    "window.title('Welcome to goa singham')\n",
    "\n",
    "Button = tk.Button(window,text = 'Enter',font=(\"Arial Bold\",40)).grid(column = 0,row = 0)\n",
    "\n",
    "window.mainloop()"
   ]
  },
  {
   "cell_type": "code",
   "execution_count": 38,
   "id": "084bf37a",
   "metadata": {},
   "outputs": [],
   "source": [
    "window = tk.Tk()\n",
    "window.title('Welcome to goa singham')\n",
    "\n",
    "Button = tk.Button(window,text = 'Enter',font=(\"Arial Bold\",40),bg='blue',fg='white').grid(column = 0,row = 0)\n",
    "\n",
    "window.mainloop()"
   ]
  },
  {
   "cell_type": "code",
   "execution_count": 37,
   "id": "f4269980",
   "metadata": {},
   "outputs": [],
   "source": [
    "window = tk.Tk()\n",
    "window.title('Welcome to goa singham')\n",
    "\n",
    "def sms():\n",
    "    label = tk.Label(window,text = 'Hi i am yash lathiya',font=(\"Arial Bold\",40)).pack()\n",
    "\n",
    "Button = tk.Button(window,text = 'Enter',font=(\"Arial Bold\",40),command = sms).pack()\n",
    "\n",
    "window.mainloop()"
   ]
  },
  {
   "cell_type": "code",
   "execution_count": 36,
   "id": "c132f20a",
   "metadata": {},
   "outputs": [],
   "source": [
    "window = tk.Tk()\n",
    "window.title('Welcome to goa singham')\n",
    "\n",
    "def sms():\n",
    "    label = tk.Label(window,text = 'Hi i am yash lathiya',font=(\"Arial Bold\",40)).pack()\n",
    "\n",
    "Button = tk.Button(window,text = 'Enter',font=(\"Arial Bold\",40),bg='blue',fg='white',command = sms).pack()\n",
    "\n",
    "window.mainloop()"
   ]
  },
  {
   "cell_type": "code",
   "execution_count": 49,
   "id": "aa363b44",
   "metadata": {},
   "outputs": [],
   "source": [
    "from tkinter import ttk\n",
    "window = tk.Tk()\n",
    "window.title('Welcome to goa singham')\n",
    "\n",
    "drop_box = ttk.Combobox(window,font=(\"Arial Bold\",40))\n",
    "drop_box['values'] = (1,2,3,4,\"yash\")\n",
    "drop_box.grid(column = 0,row = 0)\n",
    "\n",
    "window.mainloop()"
   ]
  },
  {
   "cell_type": "code",
   "execution_count": 52,
   "id": "3393ee22",
   "metadata": {},
   "outputs": [
    {
     "data": {
      "text/plain": [
       "['.ipynb_checkpoints', 'Untitled.ipynb']"
      ]
     },
     "execution_count": 52,
     "metadata": {},
     "output_type": "execute_result"
    }
   ],
   "source": [
    "import os\n",
    "\n",
    "os.listdir()"
   ]
  },
  {
   "cell_type": "code",
   "execution_count": 63,
   "id": "c5eed696",
   "metadata": {},
   "outputs": [],
   "source": [
    "from tkinter import ttk\n",
    "window = tk.Tk()\n",
    "window.title('Welcome to goa singham')\n",
    "\n",
    "drop_box = ttk.Combobox(window,font=(\"Arial Bold\",40))\n",
    "drop_box['values'] = (os.listdir())\n",
    "drop_box.grid(column = 0,row = 0)\n",
    "\n",
    "window.mainloop()"
   ]
  },
  {
   "cell_type": "code",
   "execution_count": 70,
   "id": "5feba8e4",
   "metadata": {},
   "outputs": [],
   "source": [
    "from tkinter import ttk\n",
    "window = tk.Tk()\n",
    "window.title('Welcome to goa singham')\n",
    "chk_status = tk.BooleanVar()\n",
    "chk_status.set(True)\n",
    "chk = ttk.Checkbutton(window,text = 'log in').pack()\n",
    "\n",
    "window.mainloop()\n"
   ]
  },
  {
   "cell_type": "code",
   "execution_count": 71,
   "id": "ef8707dd",
   "metadata": {},
   "outputs": [],
   "source": [
    "from tkinter import ttk\n",
    "window = tk.Tk()\n",
    "window.title('Welcome to goa singham')\n",
    "\n",
    "chk_status = tk.BooleanVar()\n",
    "chk_status.set(True)\n",
    "chk = ttk.Checkbutton(window,text = 'log in',var = chk_status).pack()\n",
    "\n",
    "window.mainloop()\n"
   ]
  },
  {
   "cell_type": "code",
   "execution_count": 89,
   "id": "7659df3a",
   "metadata": {},
   "outputs": [],
   "source": [
    "from tkinter import ttk\n",
    "window = tk.Tk()\n",
    "window.title('Welcome to goa singham')\n",
    "def sms():\n",
    "    messagebox.showinfo(\"Message contect\",\"File not Found\")\n",
    "Button = tk.Button(window,text = 'Enter',font=(\"Arial Bold\",40),bg='blue',fg='white',command = sms).pack()\n",
    "\n",
    "\n",
    "window.mainloop()"
   ]
  },
  {
   "cell_type": "code",
   "execution_count": 90,
   "id": "bdb07252",
   "metadata": {},
   "outputs": [],
   "source": [
    "from tkinter import ttk\n",
    "window = tk.Tk()\n",
    "window.title('Welcome to goa singham')\n",
    "\n",
    "text = tk.Entry(window,width = 20).pack()\n",
    "\n",
    "window.mainloop()\n"
   ]
  },
  {
   "cell_type": "code",
   "execution_count": 122,
   "id": "9ea8db61",
   "metadata": {},
   "outputs": [],
   "source": [
    "from tkinter import ttk\n",
    "window = tk.Tk()\n",
    "window.title('Welcome to goa singham')\n",
    "label = tk.Label(window,text = 'username:',font=(\"Arial Bold\",20)).grid(column = 0,row = 0)\n",
    "text = tk.Entry(window,width = 20).grid(column = 1,row = 0)\n",
    "label = tk.Label(window,text = 'password:',font=(\"Arial Bold\",20)).grid(column = 0,row = 2)\n",
    "text = tk.Entry(window,width = 20).grid(column = 1,row = 2)\n",
    "\n",
    "\n",
    "window.mainloop()"
   ]
  },
  {
   "cell_type": "code",
   "execution_count": 128,
   "id": "1590a88c",
   "metadata": {},
   "outputs": [],
   "source": [
    "from tkinter import ttk\n",
    "window = tk.Tk()\n",
    "window.title('Welcome to goa singham')\n",
    "label = tk.Label(window,text = 'username:',font=(\"Arial Bold\",20)).grid(column = 0,row = 0)\n",
    "text = tk.Entry(window,width = 20).grid(column = 1,row = 0)\n",
    "label = tk.Label(window,text = 'password:',font=(\"Arial Bold\",20)).grid(column = 0,row = 2)\n",
    "text = tk.Entry(window,width = 20).grid(column = 1,row = 2)\n",
    "\n",
    "chk_status = tk.BooleanVar()\n",
    "chk_status.set(True)\n",
    "chk = ttk.Checkbutton(window,text = 'log in',var = chk_status).grid(column = 0,row = 3)\n",
    "\n",
    "window.mainloop()"
   ]
  },
  {
   "cell_type": "code",
   "execution_count": 136,
   "id": "fa073675",
   "metadata": {},
   "outputs": [],
   "source": [
    "from tkinter import ttk\n",
    "window = tk.Tk()\n",
    "window.title('Welcome to goa singham')\n",
    "label = tk.Label(window,text = 'username:',font=(\"Arial Bold\",20)).grid(column = 0,row = 0)\n",
    "text = tk.Entry(window,width = 20).grid(column = 1,row = 0)from tkinter import ttk\n",
    "window = tk.Tk()\n",
    "window.title('Welcome to goa singham')\n",
    "\n",
    "spin =  tk.Spinbox(window,width = 5,from_ = 0, to = 10).pack(side = 'left')\n",
    "window.mainloop()\n",
    "label = tk.Label(window,text = 'password:',font=(\"Arial Bold\",20)).grid(column = 0,row = 2)\n",
    "text = tk.Entry(window,width = 20).grid(column = 1,row = 2)\n",
    "\n",
    "chk_status = tk.BooleanVar()\n",
    "chk_status.set(True)\n",
    "chk = ttk.Checkbutton(window,text = 'log in',var = chk_status).grid(columnspan = 2,row = 3)\n",
    "\n",
    "window.mainloop()"
   ]
  },
  {
   "cell_type": "code",
   "execution_count": 137,
   "id": "f0e58fbd",
   "metadata": {},
   "outputs": [],
   "source": [
    "from tkinter import ttk\n",
    "window = tk.Tk()\n",
    "window.title('Welcome to goa singham')\n",
    "\n",
    "spin =  tk.Spinbox(window,width = 5,from_ = 0, to = 10).pack()\n",
    "\n",
    "window.mainloop()"
   ]
  },
  {
   "cell_type": "code",
   "execution_count": 150,
   "id": "d878c24f",
   "metadata": {},
   "outputs": [],
   "source": [
    "from tkinter import ttk\n",
    "window = tk.Tk()\n",
    "window.title('Welcome to goa singham')\n",
    "\n",
    "spin =  tk.Spinbox(window,width = 5,from_ = 0, to = 10).pack(side = 'left')\n",
    "window.mainloop()"
   ]
  },
  {
   "cell_type": "code",
   "execution_count": 151,
   "id": "1ad15fd8",
   "metadata": {},
   "outputs": [],
   "source": [
    "from tkinter import ttk\n",
    "window = tk.Tk()\n",
    "window.title('Welcome to goa singham')\n",
    "\n",
    "spin =  tk.Spinbox(window,width = 5,from_ = 0, to = 10).grid(column = 0,row = 0)\n",
    "window.mainloop()"
   ]
  },
  {
   "cell_type": "code",
   "execution_count": 158,
   "id": "cf8dfab4",
   "metadata": {},
   "outputs": [],
   "source": [
    "from tkinter import ttk\n",
    "window = tk.Tk()\n",
    "window.title('Welcome to goa singham')\n",
    "\n",
    "radio = tk.Radiobutton(window,text = 'Batch1',value = 1).pack()\n",
    "radio2 = tk.Radiobutton(window,text = 'Batch2',value = 2).pack()\n",
    "\n",
    "\n",
    "window.mainloop()"
   ]
  },
  {
   "cell_type": "code",
   "execution_count": 159,
   "id": "eb636dd2",
   "metadata": {},
   "outputs": [],
   "source": [
    "from tkinter import ttk\n",
    "window = tk.Tk()\n",
    "window.title('Welcome to goa singham')\n",
    "\n",
    "radio = tk.Radiobutton(window,text = 'Batch1',value = 1).grid(column = 0,row = 0)\n",
    "radio2 = tk.Radiobutton(window,text = 'Batch2',value = 2).grid(column = 0,row = 1)\n",
    "\n",
    "\n",
    "window.mainloop()"
   ]
  },
  {
   "cell_type": "code",
   "execution_count": 160,
   "id": "9019fdf8",
   "metadata": {},
   "outputs": [],
   "source": [
    "from tkinter import ttk\n",
    "window = tk.Tk()\n",
    "window.title('Welcome to goa singham')\n",
    "\n",
    "radio = tk.Radiobutton(window,text = 'Batch1',value = 1).grid(column = 0,row = 0)\n",
    "radio2 = tk.Radiobutton(window,text = 'Batch2',value = 2).grid(column = 1,row = 0)\n",
    "\n",
    "\n",
    "window.mainloop()"
   ]
  },
  {
   "cell_type": "code",
   "execution_count": 165,
   "id": "51337226",
   "metadata": {},
   "outputs": [],
   "source": [
    "from tkinter import ttk\n",
    "window = tk.Tk()\n",
    "window.geometry(\"300x200\")\n",
    "window.title('Welcome to goa singham')\n",
    "\n",
    "radio = tk.Radiobutton(window,text = 'Batch1',value = 1).grid(column = 0,row = 0)\n",
    "radio2 = tk.Radiobutton(window,text = 'Batch2',value = 2).grid(column = 1,row = 0)\n",
    "\n",
    "\n",
    "window.mainloop()"
   ]
  },
  {
   "cell_type": "code",
   "execution_count": 168,
   "id": "ff0034b1",
   "metadata": {},
   "outputs": [],
   "source": [
    "from tkinter import ttk\n",
    "window = tk.Tk()\n",
    "window.geometry(\"300x200\")\n",
    "window.configure(bg='cyan')\n",
    "window.title('Welcome to goa singham')\n",
    "\n",
    "radio = tk.Radiobutton(window,text = 'Batch1',value = 1).pack()\n",
    "radio2 = tk.Radiobutton(window,text = 'Batch2',value = 2).pack()\n",
    "radio2 = tk.Radiobutton(window,text = 'Batch3',value = 3).pack()\n",
    "\n",
    "window.mainloop()"
   ]
  },
  {
   "cell_type": "code",
   "execution_count": null,
   "id": "075bcfbb",
   "metadata": {},
   "outputs": [],
   "source": []
  }
 ],
 "metadata": {
  "kernelspec": {
   "display_name": "Python 3 (ipykernel)",
   "language": "python",
   "name": "python3"
  },
  "language_info": {
   "codemirror_mode": {
    "name": "ipython",
    "version": 3
   },
   "file_extension": ".py",
   "mimetype": "text/x-python",
   "name": "python",
   "nbconvert_exporter": "python",
   "pygments_lexer": "ipython3",
   "version": "3.9.12"
  }
 },
 "nbformat": 4,
 "nbformat_minor": 5
}
