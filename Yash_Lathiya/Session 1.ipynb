{
 "cells": [
  {
   "cell_type": "code",
   "execution_count": null,
   "id": "16cf678e",
   "metadata": {},
   "outputs": [],
   "source": [
    "# a=\"yash\"\n",
    "b= 132\n",
    "c=10.5\n",
    "print(a,b,c)\n"
   ]
  },
  {
   "cell_type": "code",
   "execution_count": 4,
   "id": "68e67962",
   "metadata": {},
   "outputs": [
    {
     "name": "stdout",
     "output_type": "stream",
     "text": [
      "10 10 10\n"
     ]
    }
   ],
   "source": [
    "a=b=c=10\n",
    "print(a,b,c)"
   ]
  },
  {
   "cell_type": "code",
   "execution_count": 5,
   "id": "2689a0a3",
   "metadata": {},
   "outputs": [
    {
     "name": "stdout",
     "output_type": "stream",
     "text": [
      "10 34.8 yash\n"
     ]
    }
   ],
   "source": [
    "a,b,c=10,34.8,\"yash\"\n",
    "print(a,b,c)"
   ]
  },
  {
   "cell_type": "code",
   "execution_count": 6,
   "id": "465ffd21",
   "metadata": {},
   "outputs": [
    {
     "name": "stdout",
     "output_type": "stream",
     "text": [
      "<class 'int'>\n"
     ]
    }
   ],
   "source": [
    "a,b,c=10,34.8,\"yash\"\n",
    "print(type(a))"
   ]
  },
  {
   "cell_type": "code",
   "execution_count": 7,
   "id": "a90b66a0",
   "metadata": {},
   "outputs": [
    {
     "name": "stdout",
     "output_type": "stream",
     "text": [
      "<class 'str'>\n"
     ]
    }
   ],
   "source": [
    "a,b,c=10,34.8,\"yash\"\n",
    "print(type(c))"
   ]
  },
  {
   "cell_type": "code",
   "execution_count": 10,
   "id": "2c3650d2",
   "metadata": {},
   "outputs": [
    {
     "name": "stdout",
     "output_type": "stream",
     "text": [
      "10 34.8 yash\n"
     ]
    }
   ],
   "source": [
    "a,b,c=10,34.8,\"yash\"\n",
    "print(a,b,c)\n",
    "del c\n"
   ]
  },
  {
   "cell_type": "code",
   "execution_count": 14,
   "id": "bc588496",
   "metadata": {},
   "outputs": [
    {
     "data": {
      "text/plain": [
       "str"
      ]
     },
     "execution_count": 14,
     "metadata": {},
     "output_type": "execute_result"
    }
   ],
   "source": [
    "str1=\"python is a programming langguage\"\n",
    "type(str1)"
   ]
  },
  {
   "cell_type": "code",
   "execution_count": 15,
   "id": "161999eb",
   "metadata": {},
   "outputs": [
    {
     "data": {
      "text/plain": [
       "'python is a programming langguage'"
      ]
     },
     "execution_count": 15,
     "metadata": {},
     "output_type": "execute_result"
    }
   ],
   "source": [
    "str1\n"
   ]
  },
  {
   "cell_type": "code",
   "execution_count": 16,
   "id": "df9b4b0a",
   "metadata": {},
   "outputs": [
    {
     "data": {
      "text/plain": [
       "'p'"
      ]
     },
     "execution_count": 16,
     "metadata": {},
     "output_type": "execute_result"
    }
   ],
   "source": [
    "str1[0]"
   ]
  },
  {
   "cell_type": "code",
   "execution_count": 17,
   "id": "26c2361e",
   "metadata": {},
   "outputs": [
    {
     "data": {
      "text/plain": [
       "'e'"
      ]
     },
     "execution_count": 17,
     "metadata": {},
     "output_type": "execute_result"
    }
   ],
   "source": [
    "str1[-1]"
   ]
  },
  {
   "cell_type": "code",
   "execution_count": 15,
   "id": "fab7ea6a",
   "metadata": {},
   "outputs": [
    {
     "data": {
      "text/plain": [
       "str"
      ]
     },
     "execution_count": 15,
     "metadata": {},
     "output_type": "execute_result"
    }
   ],
   "source": [
    "str1=\"python is a programming language\"\n",
    "type(str1)"
   ]
  },
  {
   "cell_type": "code",
   "execution_count": 5,
   "id": "67fae384",
   "metadata": {},
   "outputs": [
    {
     "data": {
      "text/plain": [
       "'e'"
      ]
     },
     "execution_count": 5,
     "metadata": {},
     "output_type": "execute_result"
    }
   ],
   "source": [
    "str1[-1]"
   ]
  },
  {
   "cell_type": "code",
   "execution_count": 8,
   "id": "24588a2a",
   "metadata": {},
   "outputs": [
    {
     "data": {
      "text/plain": [
       "'a'"
      ]
     },
     "execution_count": 8,
     "metadata": {},
     "output_type": "execute_result"
    }
   ],
   "source": [
    "str1[-8]"
   ]
  },
  {
   "cell_type": "code",
   "execution_count": 9,
   "id": "2417a5ca",
   "metadata": {},
   "outputs": [
    {
     "data": {
      "text/plain": [
       "'programmin'"
      ]
     },
     "execution_count": 9,
     "metadata": {},
     "output_type": "execute_result"
    }
   ],
   "source": [
    "str1[12:22]"
   ]
  },
  {
   "cell_type": "code",
   "execution_count": 16,
   "id": "b53720a3",
   "metadata": {},
   "outputs": [
    {
     "data": {
      "text/plain": [
       "' language'"
      ]
     },
     "execution_count": 16,
     "metadata": {},
     "output_type": "execute_result"
    }
   ],
   "source": [
    "str1[-9:]"
   ]
  },
  {
   "cell_type": "code",
   "execution_count": 17,
   "id": "34b57913",
   "metadata": {},
   "outputs": [
    {
     "data": {
      "text/plain": [
       "'s a programming language'"
      ]
     },
     "execution_count": 17,
     "metadata": {},
     "output_type": "execute_result"
    }
   ],
   "source": [
    "str1[8:]"
   ]
  },
  {
   "cell_type": "code",
   "execution_count": 18,
   "id": "503e6172",
   "metadata": {},
   "outputs": [
    {
     "data": {
      "text/plain": [
       "str"
      ]
     },
     "execution_count": 18,
     "metadata": {},
     "output_type": "execute_result"
    }
   ],
   "source": [
    "str1=\"python is a programming language\"\n",
    "type(str1)"
   ]
  },
  {
   "cell_type": "code",
   "execution_count": 19,
   "id": "af42e2a4",
   "metadata": {},
   "outputs": [
    {
     "data": {
      "text/plain": [
       "'python is a programming language'"
      ]
     },
     "execution_count": 19,
     "metadata": {},
     "output_type": "execute_result"
    }
   ],
   "source": [
    "str1\n"
   ]
  },
  {
   "cell_type": "code",
   "execution_count": 20,
   "id": "bedc029c",
   "metadata": {},
   "outputs": [
    {
     "data": {
      "text/plain": [
       "'egaugnal gnimmargorp a si nohtyp'"
      ]
     },
     "execution_count": 20,
     "metadata": {},
     "output_type": "execute_result"
    }
   ],
   "source": [
    "str1[::-1]"
   ]
  },
  {
   "cell_type": "code",
   "execution_count": 21,
   "id": "6585765d",
   "metadata": {},
   "outputs": [
    {
     "data": {
      "text/plain": [
       "'python is a programming language'"
      ]
     },
     "execution_count": 21,
     "metadata": {},
     "output_type": "execute_result"
    }
   ],
   "source": [
    "str1[::1]"
   ]
  },
  {
   "cell_type": "code",
   "execution_count": 22,
   "id": "226997f9",
   "metadata": {},
   "outputs": [
    {
     "data": {
      "text/plain": [
       "'pto sapormiglnug'"
      ]
     },
     "execution_count": 22,
     "metadata": {},
     "output_type": "execute_result"
    }
   ],
   "source": [
    "str1[::2]"
   ]
  },
  {
   "cell_type": "code",
   "execution_count": 23,
   "id": "a14287b4",
   "metadata": {},
   "outputs": [
    {
     "data": {
      "text/plain": [
       "'ph  pgmnlgg'"
      ]
     },
     "execution_count": 23,
     "metadata": {},
     "output_type": "execute_result"
    }
   ],
   "source": [
    "str1[::3]"
   ]
  },
  {
   "cell_type": "code",
   "execution_count": 24,
   "id": "feb4bfd1",
   "metadata": {},
   "outputs": [
    {
     "data": {
      "text/plain": [
       "'p pmlg'"
      ]
     },
     "execution_count": 24,
     "metadata": {},
     "output_type": "execute_result"
    }
   ],
   "source": [
    "str1[::6]"
   ]
  },
  {
   "cell_type": "code",
   "execution_count": 26,
   "id": "c94b0308",
   "metadata": {},
   "outputs": [
    {
     "ename": "TypeError",
     "evalue": "'str' object does not support item assignment",
     "output_type": "error",
     "traceback": [
      "\u001b[1;31m---------------------------------------------------------------------------\u001b[0m",
      "\u001b[1;31mTypeError\u001b[0m                                 Traceback (most recent call last)",
      "Input \u001b[1;32mIn [26]\u001b[0m, in \u001b[0;36m<cell line: 1>\u001b[1;34m()\u001b[0m\n\u001b[1;32m----> 1\u001b[0m str1[\u001b[38;5;241m0\u001b[39m]\u001b[38;5;241m=\u001b[39m\u001b[38;5;124m'\u001b[39m\u001b[38;5;124mA\u001b[39m\u001b[38;5;124m'\u001b[39m\n",
      "\u001b[1;31mTypeError\u001b[0m: 'str' object does not support item assignment"
     ]
    }
   ],
   "source": [
    "str1[0]='A'"
   ]
  },
  {
   "cell_type": "code",
   "execution_count": 27,
   "id": "0ac21124",
   "metadata": {},
   "outputs": [
    {
     "ename": "TypeError",
     "evalue": "'str' object doesn't support item deletion",
     "output_type": "error",
     "traceback": [
      "\u001b[1;31m---------------------------------------------------------------------------\u001b[0m",
      "\u001b[1;31mTypeError\u001b[0m                                 Traceback (most recent call last)",
      "Input \u001b[1;32mIn [27]\u001b[0m, in \u001b[0;36m<cell line: 1>\u001b[1;34m()\u001b[0m\n\u001b[1;32m----> 1\u001b[0m \u001b[38;5;28;01mdel\u001b[39;00m str1[\u001b[38;5;241m0\u001b[39m]\n",
      "\u001b[1;31mTypeError\u001b[0m: 'str' object doesn't support item deletion"
     ]
    }
   ],
   "source": [
    "del str1[0]"
   ]
  },
  {
   "cell_type": "code",
   "execution_count": 29,
   "id": "8951ba61",
   "metadata": {},
   "outputs": [
    {
     "name": "stdout",
     "output_type": "stream",
     "text": [
      "python programming langauge\n"
     ]
    }
   ],
   "source": [
    "str11=\"{} {} {}\".format('python','programming','langauge')\n",
    "print(str11)"
   ]
  },
  {
   "cell_type": "code",
   "execution_count": 30,
   "id": "b281f2cd",
   "metadata": {},
   "outputs": [
    {
     "name": "stdout",
     "output_type": "stream",
     "text": [
      "programming python langauge\n"
     ]
    }
   ],
   "source": [
    "str11=\"{1} {0} {2}\".format('python','programming','langauge')\n",
    "print(str11)"
   ]
  },
  {
   "cell_type": "code",
   "execution_count": 32,
   "id": "6e265061",
   "metadata": {},
   "outputs": [
    {
     "name": "stdout",
     "output_type": "stream",
     "text": [
      "p r lg\n"
     ]
    }
   ],
   "source": [
    "str11=\"{a} {b} {c}\".format(a='p',b='r',c='lg')\n",
    "print(str11)"
   ]
  },
  {
   "cell_type": "code",
   "execution_count": 33,
   "id": "f3408dd9",
   "metadata": {},
   "outputs": [
    {
     "name": "stdout",
     "output_type": "stream",
     "text": [
      "s54 fgf\n"
     ]
    }
   ],
   "source": [
    "a=\"s54 fgf\"\n",
    "print(a)"
   ]
  },
  {
   "cell_type": "code",
   "execution_count": 34,
   "id": "6b62b8bb",
   "metadata": {},
   "outputs": [
    {
     "name": "stdout",
     "output_type": "stream",
     "text": [
      "s54$%fgf\n"
     ]
    }
   ],
   "source": [
    "a=\"s54$%fgf\"\n",
    "print(a)"
   ]
  },
  {
   "cell_type": "code",
   "execution_count": 42,
   "id": "9c1bebaf",
   "metadata": {},
   "outputs": [
    {
     "name": "stdout",
     "output_type": "stream",
     "text": [
      "<class 'str'>\n"
     ]
    }
   ],
   "source": [
    "a=\"s54%$fgf\"\n",
    "print(type(a))\n"
   ]
  },
  {
   "cell_type": "code",
   "execution_count": 36,
   "id": "ab76ed4b",
   "metadata": {},
   "outputs": [
    {
     "name": "stdout",
     "output_type": "stream",
     "text": [
      "<class 'str'>\n"
     ]
    }
   ],
   "source": [
    "a=\"s54 fgf\"\n",
    "print(type(a))"
   ]
  },
  {
   "cell_type": "code",
   "execution_count": 38,
   "id": "ff79c245",
   "metadata": {},
   "outputs": [
    {
     "data": {
      "text/plain": [
       "False"
      ]
     },
     "execution_count": 38,
     "metadata": {},
     "output_type": "execute_result"
    }
   ],
   "source": [
    "a=\"s54%$fgf\"\n",
    "a.isalpha()"
   ]
  },
  {
   "cell_type": "code",
   "execution_count": 40,
   "id": "2f006188",
   "metadata": {},
   "outputs": [
    {
     "data": {
      "text/plain": [
       "True"
      ]
     },
     "execution_count": 40,
     "metadata": {},
     "output_type": "execute_result"
    }
   ],
   "source": [
    "a=\"sfgf\"\n",
    "a.isalpha()"
   ]
  },
  {
   "cell_type": "code",
   "execution_count": 43,
   "id": "e0138de0",
   "metadata": {},
   "outputs": [
    {
     "data": {
      "text/plain": [
       "True"
      ]
     },
     "execution_count": 43,
     "metadata": {},
     "output_type": "execute_result"
    }
   ],
   "source": [
    "a=\"s54fgf\"\n",
    "a.isalnum()"
   ]
  },
  {
   "cell_type": "code",
   "execution_count": 44,
   "id": "0be336d2",
   "metadata": {},
   "outputs": [],
   "source": [
    "y=\"s54%$fgf\""
   ]
  },
  {
   "cell_type": "code",
   "execution_count": 45,
   "id": "ab401e61",
   "metadata": {},
   "outputs": [
    {
     "data": {
      "text/plain": [
       "'s54%$fgf'"
      ]
     },
     "execution_count": 45,
     "metadata": {},
     "output_type": "execute_result"
    }
   ],
   "source": [
    "y"
   ]
  },
  {
   "cell_type": "code",
   "execution_count": 53,
   "id": "d5f3c25e",
   "metadata": {},
   "outputs": [
    {
     "ename": "IndentationError",
     "evalue": "unexpected indent (1414710915.py, line 13)",
     "output_type": "error",
     "traceback": [
      "\u001b[1;36m  Input \u001b[1;32mIn [53]\u001b[1;36m\u001b[0m\n\u001b[1;33m    print(\"no. of characters are\",calpha)\u001b[0m\n\u001b[1;37m    ^\u001b[0m\n\u001b[1;31mIndentationError\u001b[0m\u001b[1;31m:\u001b[0m unexpected indent\n"
     ]
    }
   ],
   "source": [
    "str1=\"s54%$fgf\"\n",
    "calpha=0\n",
    "cnum=0\n",
    "cspcl=0\n",
    "\n",
    "for i in str1:\n",
    "    if i.isalpha():\n",
    "        calpha=calpha+1\n",
    "    elif i.isalnum():\n",
    "        cnum=cnum+1\n",
    "    else:\n",
    "        cspcl=cspcl+1\n",
    "                print(\"no. of characters are\",calpha)\n",
    "                print(\"no. of numbers are\",cnum)\n",
    "                print(\"no. of spe characters are\",cspcl)\n",
    "    "
   ]
  },
  {
   "cell_type": "code",
   "execution_count": 56,
   "id": "475d0a8d",
   "metadata": {},
   "outputs": [
    {
     "name": "stdout",
     "output_type": "stream",
     "text": [
      "no. of characters are 4\n",
      "no. of numbers are 2\n",
      "no. of spe characters are 2\n"
     ]
    }
   ],
   "source": [
    "str1=\"s54%$fgf\"\n",
    "calpha=0\n",
    "cnum=0\n",
    "cspcl=0\n",
    "\n",
    "for i in str1:\n",
    "    if i.isalpha():\n",
    "        calpha=calpha+1\n",
    "    elif i.isalnum():\n",
    "        cnum=cnum+1\n",
    "    else:\n",
    "        cspcl=cspcl+1\n",
    "print(\"no. of characters are\",calpha)\n",
    "print(\"no. of numbers are\",cnum)\n",
    "print(\"no. of spe characters are\",cspcl)\n",
    "    "
   ]
  },
  {
   "cell_type": "code",
   "execution_count": 57,
   "id": "7f710424",
   "metadata": {},
   "outputs": [
    {
     "name": "stdout",
     "output_type": "stream",
     "text": [
      "s54fgf\n",
      "s54%$fgf\n"
     ]
    }
   ],
   "source": [
    "print(a)\n",
    "print(str1)\n"
   ]
  },
  {
   "cell_type": "code",
   "execution_count": 58,
   "id": "e9bb4cbe",
   "metadata": {},
   "outputs": [
    {
     "data": {
      "text/plain": [
       "'s54fgfs54%$fgf'"
      ]
     },
     "execution_count": 58,
     "metadata": {},
     "output_type": "execute_result"
    }
   ],
   "source": [
    "a+str1"
   ]
  },
  {
   "cell_type": "code",
   "execution_count": 59,
   "id": "0e583ff3",
   "metadata": {},
   "outputs": [
    {
     "data": {
      "text/plain": [
       "'s54fgfs54fgfs54fgf'"
      ]
     },
     "execution_count": 59,
     "metadata": {},
     "output_type": "execute_result"
    }
   ],
   "source": [
    "a*3"
   ]
  },
  {
   "cell_type": "code",
   "execution_count": 61,
   "id": "e7aa5eb4",
   "metadata": {},
   "outputs": [
    {
     "data": {
      "text/plain": [
       "'s54fgfs54%$fgf'"
      ]
     },
     "execution_count": 61,
     "metadata": {},
     "output_type": "execute_result"
    }
   ],
   "source": [
    "a+y"
   ]
  },
  {
   "cell_type": "code",
   "execution_count": 62,
   "id": "51d642ce",
   "metadata": {},
   "outputs": [
    {
     "name": "stdout",
     "output_type": "stream",
     "text": [
      "['s54fgf']\n"
     ]
    }
   ],
   "source": [
    "h=a.split()\n",
    "print(h)"
   ]
  },
  {
   "cell_type": "code",
   "execution_count": 63,
   "id": "35966ed8",
   "metadata": {},
   "outputs": [
    {
     "name": "stdout",
     "output_type": "stream",
     "text": [
      "[12, 'yash', 67.9]\n"
     ]
    }
   ],
   "source": [
    "list=[12,'yash',67.90]\n",
    "print(list)"
   ]
  },
  {
   "cell_type": "code",
   "execution_count": 64,
   "id": "a5642849",
   "metadata": {},
   "outputs": [
    {
     "data": {
      "text/plain": [
       "12"
      ]
     },
     "execution_count": 64,
     "metadata": {},
     "output_type": "execute_result"
    }
   ],
   "source": [
    "list[0]"
   ]
  },
  {
   "cell_type": "code",
   "execution_count": 66,
   "id": "5447d79b",
   "metadata": {},
   "outputs": [
    {
     "data": {
      "text/plain": [
       "67.9"
      ]
     },
     "execution_count": 66,
     "metadata": {},
     "output_type": "execute_result"
    }
   ],
   "source": [
    "list[-1]"
   ]
  },
  {
   "cell_type": "code",
   "execution_count": 72,
   "id": "d49836bf",
   "metadata": {},
   "outputs": [
    {
     "name": "stdout",
     "output_type": "stream",
     "text": [
      "enter number89\n",
      "89\n"
     ]
    }
   ],
   "source": [
    "list=input(\"enter number\")\n",
    "print(list)"
   ]
  },
  {
   "cell_type": "code",
   "execution_count": 70,
   "id": "a6b59fe8",
   "metadata": {},
   "outputs": [
    {
     "data": {
      "text/plain": [
       "str"
      ]
     },
     "execution_count": 70,
     "metadata": {},
     "output_type": "execute_result"
    }
   ],
   "source": [
    "type(list)"
   ]
  },
  {
   "cell_type": "code",
   "execution_count": 76,
   "id": "71cb5132",
   "metadata": {},
   "outputs": [
    {
     "name": "stdout",
     "output_type": "stream",
     "text": [
      "enter number67\n",
      "67\n"
     ]
    }
   ],
   "source": [
    "list=int(input(\"enter number\"))\n",
    "print(list)"
   ]
  },
  {
   "cell_type": "code",
   "execution_count": 74,
   "id": "698021ac",
   "metadata": {},
   "outputs": [
    {
     "data": {
      "text/plain": [
       "int"
      ]
     },
     "execution_count": 74,
     "metadata": {},
     "output_type": "execute_result"
    }
   ],
   "source": [
    "type(list)"
   ]
  },
  {
   "cell_type": "code",
   "execution_count": 77,
   "id": "0a2c6a9a",
   "metadata": {},
   "outputs": [
    {
     "name": "stdout",
     "output_type": "stream",
     "text": [
      "enter any sequence of number10 11 12 13 14 7 90 91 122\n",
      "10 11 12 13 14 7 90 91 122\n"
     ]
    }
   ],
   "source": [
    "str11=input(\"enter any sequence of number\")\n",
    "print(str11)"
   ]
  },
  {
   "cell_type": "code",
   "execution_count": 78,
   "id": "d210fff6",
   "metadata": {},
   "outputs": [
    {
     "data": {
      "text/plain": [
       "str"
      ]
     },
     "execution_count": 78,
     "metadata": {},
     "output_type": "execute_result"
    }
   ],
   "source": [
    "type(str11)"
   ]
  },
  {
   "cell_type": "code",
   "execution_count": 81,
   "id": "f6f5a5f6",
   "metadata": {},
   "outputs": [
    {
     "name": "stdout",
     "output_type": "stream",
     "text": [
      "['10', '11', '12', '13', '14', '7', '90', '91', '122']\n"
     ]
    }
   ],
   "source": [
    "l=str11.split()\n",
    "print(l)\n"
   ]
  },
  {
   "cell_type": "code",
   "execution_count": 86,
   "id": "0385162f",
   "metadata": {},
   "outputs": [
    {
     "name": "stdout",
     "output_type": "stream",
     "text": [
      "enter the number109\n",
      "109.\n"
     ]
    }
   ],
   "source": [
    "num = int(input(\"enter the number\"))\n",
    "print(num,\"\",sep='.')"
   ]
  },
  {
   "cell_type": "code",
   "execution_count": 87,
   "id": "6ecbbe87",
   "metadata": {},
   "outputs": [
    {
     "name": "stdout",
     "output_type": "stream",
     "text": [
      "enter the number56\n",
      "56,\n"
     ]
    }
   ],
   "source": [
    "num = int(input(\"enter the number\"))\n",
    "print(num,\"\",sep=',')"
   ]
  },
  {
   "cell_type": "code",
   "execution_count": 89,
   "id": "3bb791f8",
   "metadata": {},
   "outputs": [
    {
     "ename": "TypeError",
     "evalue": "'int' object does not support item assignment",
     "output_type": "error",
     "traceback": [
      "\u001b[1;31m---------------------------------------------------------------------------\u001b[0m",
      "\u001b[1;31mTypeError\u001b[0m                                 Traceback (most recent call last)",
      "Input \u001b[1;32mIn [89]\u001b[0m, in \u001b[0;36m<cell line: 1>\u001b[1;34m()\u001b[0m\n\u001b[1;32m----> 1\u001b[0m \u001b[38;5;28mlist\u001b[39m[\u001b[38;5;241m0\u001b[39m]\u001b[38;5;241m=\u001b[39m\u001b[38;5;241m430\u001b[39m\n\u001b[0;32m      2\u001b[0m \u001b[38;5;28mprint\u001b[39m(\u001b[38;5;28mlist\u001b[39m)\n",
      "\u001b[1;31mTypeError\u001b[0m: 'int' object does not support item assignment"
     ]
    }
   ],
   "source": [
    "list[0]=430\n",
    "print(list)"
   ]
  },
  {
   "cell_type": "code",
   "execution_count": 95,
   "id": "f157d67d",
   "metadata": {},
   "outputs": [
    {
     "name": "stdout",
     "output_type": "stream",
     "text": [
      "[12, 'yash', 67.9]\n"
     ]
    }
   ],
   "source": [
    "list1=[12,'yash',67.90]\n",
    "print(list)"
   ]
  },
  {
   "cell_type": "code",
   "execution_count": 2,
   "id": "c3208152",
   "metadata": {},
   "outputs": [
    {
     "ename": "SyntaxError",
     "evalue": "cannot assign to function call (2718581012.py, line 1)",
     "output_type": "error",
     "traceback": [
      "\u001b[1;36m  Input \u001b[1;32mIn [2]\u001b[1;36m\u001b[0m\n\u001b[1;33m    list1(0)=89\u001b[0m\n\u001b[1;37m    ^\u001b[0m\n\u001b[1;31mSyntaxError\u001b[0m\u001b[1;31m:\u001b[0m cannot assign to function call\n"
     ]
    }
   ],
   "source": [
    "list1(0)=89\n",
    "    print(list1)"
   ]
  },
  {
   "cell_type": "code",
   "execution_count": 98,
   "id": "7253c4b7",
   "metadata": {},
   "outputs": [],
   "source": [
    "tuple1=(10,101,\"yash\")\n"
   ]
  },
  {
   "cell_type": "code",
   "execution_count": 99,
   "id": "f056d4fd",
   "metadata": {},
   "outputs": [
    {
     "data": {
      "text/plain": [
       "(10, 101, 'yash')"
      ]
     },
     "execution_count": 99,
     "metadata": {},
     "output_type": "execute_result"
    }
   ],
   "source": [
    "tuple1"
   ]
  },
  {
   "cell_type": "code",
   "execution_count": 100,
   "id": "c2798880",
   "metadata": {},
   "outputs": [
    {
     "data": {
      "text/plain": [
       "10"
      ]
     },
     "execution_count": 100,
     "metadata": {},
     "output_type": "execute_result"
    }
   ],
   "source": [
    "tuple1[0]"
   ]
  },
  {
   "cell_type": "code",
   "execution_count": 5,
   "id": "3bdd2485",
   "metadata": {},
   "outputs": [
    {
     "name": "stdout",
     "output_type": "stream",
     "text": [
      "{'name': 'yash', 'id': '2121'}\n"
     ]
    }
   ],
   "source": [
    "dict ={\"name\":\"yash\",\"id\":\"2121\"}\n",
    "print(dict)"
   ]
  },
  {
   "cell_type": "code",
   "execution_count": 8,
   "id": "93174977",
   "metadata": {},
   "outputs": [
    {
     "name": "stdout",
     "output_type": "stream",
     "text": [
      "the count is: 0\n",
      "good bye\n",
      "the count is: 1\n",
      "good bye\n",
      "the count is: 2\n",
      "good bye\n",
      "the count is: 3\n",
      "good bye\n",
      "the count is: 4\n",
      "good bye\n",
      "the count is: 5\n",
      "good bye\n",
      "the count is: 6\n",
      "good bye\n",
      "the count is: 7\n",
      "good bye\n",
      "the count is: 8\n",
      "good bye\n"
     ]
    }
   ],
   "source": [
    "count = 0\n",
    "while (count <9):\n",
    "    print('the count is:', count)\n",
    "    count = count + 1\n",
    "    print(\"good bye\")\n",
    "   "
   ]
  },
  {
   "cell_type": "code",
   "execution_count": 12,
   "id": "b0c86edb",
   "metadata": {},
   "outputs": [
    {
     "name": "stdout",
     "output_type": "stream",
     "text": [
      "0 count is less then 9\n",
      "1 count is less then 9\n",
      "2 count is less then 9\n",
      "3 count is less then 9\n",
      "4 count is less then 9\n",
      "5 count is less then 9\n",
      "6 count is less then 9\n",
      "7 count is less then 9\n",
      "8 count is less then 9\n",
      "9 count is not less then 9\n"
     ]
    }
   ],
   "source": [
    "count = 0\n",
    "while (count <9):\n",
    "    print(count,\"count is less then 9\")\n",
    "    count = count + 1\n",
    "else:\n",
    "    print(count,\"count is not less then 9\")"
   ]
  },
  {
   "cell_type": "code",
   "execution_count": 14,
   "id": "2b4b1378",
   "metadata": {},
   "outputs": [
    {
     "name": "stdout",
     "output_type": "stream",
     "text": [
      "p\n",
      "a\n",
      "c\n",
      "i\n",
      "f\n",
      "i\n",
      "c\n"
     ]
    }
   ],
   "source": [
    "college=\"pacific\"\n",
    "for  i in college:\n",
    "    print(i)"
   ]
  },
  {
   "cell_type": "code",
   "execution_count": 16,
   "id": "90b6e961",
   "metadata": {},
   "outputs": [
    {
     "name": "stdout",
     "output_type": "stream",
     "text": [
      "fruits name is : apple\n",
      "fruits name is : graps\n",
      "fruits name is : banana\n",
      "fruits name is : mangoes\n"
     ]
    }
   ],
   "source": [
    "fruits=[\"apple\",\"graps\",\"banana\",\"mangoes\"]\n",
    "for i in  fruits:\n",
    "    print(\"fruits name is :\",i)"
   ]
  },
  {
   "cell_type": "code",
   "execution_count": 17,
   "id": "05f69340",
   "metadata": {},
   "outputs": [
    {
     "name": "stdout",
     "output_type": "stream",
     "text": [
      "1\n",
      "2\n",
      "3\n",
      "4\n",
      "5\n",
      "6\n",
      "7\n",
      "8\n",
      "9\n",
      "10\n"
     ]
    }
   ],
   "source": [
    "for i in range(1,11):\n",
    "    print(i)"
   ]
  },
  {
   "cell_type": "code",
   "execution_count": 19,
   "id": "8adf89fe",
   "metadata": {},
   "outputs": [
    {
     "name": "stdout",
     "output_type": "stream",
     "text": [
      "10 equals 2 * 5\n",
      "11 is a prime number\n",
      "12 equals 2 * 6\n",
      "13 is a prime number\n",
      "14 equals 2 * 7\n",
      "15 is a prime number\n",
      "16 equals 2 * 8\n",
      "17 is a prime number\n",
      "18 equals 2 * 9\n",
      "19 is a prime number\n"
     ]
    }
   ],
   "source": [
    "for  num in range(10,20):\n",
    "    for i in range(2,num):\n",
    "        if num%i == 0:\n",
    "            j=num/i\n",
    "            print('%d equals %d * %d' % (num,i,j))\n",
    "            break\n",
    "        else:\n",
    "            print(num, 'is a prime number')\n",
    "            break"
   ]
  },
  {
   "cell_type": "code",
   "execution_count": 21,
   "id": "9c7f851c",
   "metadata": {},
   "outputs": [
    {
     "name": "stdout",
     "output_type": "stream",
     "text": [
      "pcfc\n"
     ]
    }
   ],
   "source": [
    "#remove vowels from a particular string\n",
    "str12=\"pacific\"\n",
    "output=''\n",
    "vowels=['a','e','i','o','u']\n",
    "for i in str12:\n",
    "    if i not in vowels:\n",
    "        output=output+i\n",
    "print(output)\n",
    "    "
   ]
  },
  {
   "cell_type": "code",
   "execution_count": 1,
   "id": "b8168237",
   "metadata": {},
   "outputs": [
    {
     "name": "stdout",
     "output_type": "stream",
     "text": [
      "0 \n",
      "0 1 \n",
      "0 1 2 \n",
      "0 1 2 3 \n",
      "0 1 2 3 4 \n"
     ]
    }
   ],
   "source": [
    "#0 1\n",
    "#0 1 2\n",
    "#0 1 2 3\n",
    "#0 1 2 3 4\n",
    "\n",
    "i=0\n",
    "j=0\n",
    "x=5\n",
    "while i <x:\n",
    "    while j<=i:\n",
    "        print(j,end=' ')\n",
    "        j=j+1\n",
    "    print()\n",
    "    i=i+1\n",
    "    j=0\n"
   ]
  },
  {
   "cell_type": "code",
   "execution_count": 9,
   "id": "7bbcb723",
   "metadata": {},
   "outputs": [
    {
     "name": "stdout",
     "output_type": "stream",
     "text": [
      "sum is  62\n"
     ]
    }
   ],
   "source": [
    "dict1={'data1':45,'data2':-43,'data':60}\n",
    "sum=0\n",
    "for k,v in dict1.items():\n",
    "    sum=sum+v\n",
    "print(\"sum is \",sum)"
   ]
  },
  {
   "cell_type": "code",
   "execution_count": 12,
   "id": "0fa1fb4a",
   "metadata": {},
   "outputs": [
    {
     "name": "stdout",
     "output_type": "stream",
     "text": [
      "[2, 5, 10, 16]\n"
     ]
    }
   ],
   "source": [
    "#i/p:[2,3,5,6]\n",
    "#O/p:[2,5,10,16]\n",
    "list1=[]\n",
    "sum=0\n",
    "ip=[2,3,5,6]\n",
    "for x in ip:\n",
    "    sum=sum+x\n",
    "    list1.append(sum)\n",
    "print(list1)"
   ]
  },
  {
   "cell_type": "code",
   "execution_count": 13,
   "id": "a5e936f5",
   "metadata": {},
   "outputs": [
    {
     "name": "stdout",
     "output_type": "stream",
     "text": [
      "[2, 5, 10, 16]\n"
     ]
    }
   ],
   "source": [
    "sum=0\n",
    "ip=[2,3,5,6]\n",
    "for x in ip:\n",
    "    sum=sum+x\n",
    "print(list1)"
   ]
  },
  {
   "cell_type": "code",
   "execution_count": 14,
   "id": "666f979a",
   "metadata": {},
   "outputs": [
    {
     "name": "stdout",
     "output_type": "stream",
     "text": [
      "10 i am in function\n"
     ]
    }
   ],
   "source": [
    "def sum1(a):\n",
    "    print(a,\"i am in function\")\n",
    "    \n",
    "sum1(10)"
   ]
  },
  {
   "cell_type": "code",
   "execution_count": 15,
   "id": "c1d04b09",
   "metadata": {},
   "outputs": [
    {
     "name": "stdout",
     "output_type": "stream",
     "text": [
      "number is 10\n"
     ]
    }
   ],
   "source": [
    "def sum1(a):\n",
    "    print(\"number is\",a)\n",
    "    \n",
    "sum1(10)"
   ]
  },
  {
   "cell_type": "code",
   "execution_count": 6,
   "id": "694795f8",
   "metadata": {},
   "outputs": [],
   "source": [
    "def Sum(a,b):\n",
    "    return a+b\n",
    "def Sub(a,b):\n",
    "    return a-b\n",
    "def Mul(a,b):\n",
    "    return a*b\n",
    "def Div(a,b):\n",
    "    return a/b"
   ]
  },
  {
   "cell_type": "code",
   "execution_count": 1,
   "id": "f1acc17c",
   "metadata": {},
   "outputs": [
    {
     "name": "stdout",
     "output_type": "stream",
     "text": [
      "1. Add 2.Sub 3.MUl 4.Div\n"
     ]
    },
    {
     "name": "stderr",
     "output_type": "stream",
     "text": [
      "\n",
      "KeyboardInterrupt\n",
      "\n"
     ]
    }
   ],
   "source": [
    "print(\"1. Add 2.Sub 3.MUl 4.Div\")\n",
    "ch=input(\"enter your choice\")\n",
    "num1=int(input(\"enter first number\"))\n",
    "num2=int(input(\"enter second number\"))\n",
    "if ch=='1':\n",
    "    print(\"Addition is\",Sum(num1,num2))\n",
    "elif ch=='2':\n",
    "    print(\"substraction is\",Sub(num1,num2))\n",
    "elif ch=='3':\n",
    "    print(\"multiplication is\",Mul(num1,num2))\n",
    "elif ch=='4':\n",
    "    print(\"Division is\",Div(num1,num2))\n",
    "else:\n",
    "    print(\"enter the valid  choice\")"
   ]
  },
  {
   "cell_type": "code",
   "execution_count": 13,
   "id": "0ab53cdc",
   "metadata": {},
   "outputs": [
    {
     "data": {
      "text/plain": [
       "[1, 2, 3, 4, 5, 6, 7, 8, 9, 10, 11, 12, 13, 14, 15, 16, 17, 18, 19, 20]"
      ]
     },
     "execution_count": 13,
     "metadata": {},
     "output_type": "execute_result"
    }
   ],
   "source": [
    "[i for i in range(1,21)]"
   ]
  },
  {
   "cell_type": "code",
   "execution_count": 11,
   "id": "9922be55",
   "metadata": {},
   "outputs": [
    {
     "data": {
      "text/plain": [
       "[2, 4, 6, 8, 10, 12, 14, 16, 18, 20]"
      ]
     },
     "execution_count": 11,
     "metadata": {},
     "output_type": "execute_result"
    }
   ],
   "source": [
    "[i for i in range(1,21) if i%2 == 0]"
   ]
  },
  {
   "cell_type": "code",
   "execution_count": 12,
   "id": "cc75329d",
   "metadata": {},
   "outputs": [
    {
     "data": {
      "text/plain": [
       "[1, 3, 5, 7, 9, 11, 13, 15, 17, 19]"
      ]
     },
     "execution_count": 12,
     "metadata": {},
     "output_type": "execute_result"
    }
   ],
   "source": [
    "[i for i in range(1,21) if i%2]"
   ]
  },
  {
   "cell_type": "code",
   "execution_count": null,
   "id": "4ba1b68d",
   "metadata": {},
   "outputs": [],
   "source": []
  }
 ],
 "metadata": {
  "kernelspec": {
   "display_name": "Python 3 (ipykernel)",
   "language": "python",
   "name": "python3"
  },
  "language_info": {
   "codemirror_mode": {
    "name": "ipython",
    "version": 3
   },
   "file_extension": ".py",
   "mimetype": "text/x-python",
   "name": "python",
   "nbconvert_exporter": "python",
   "pygments_lexer": "ipython3",
   "version": "3.9.12"
  }
 },
 "nbformat": 4,
 "nbformat_minor": 5
}
