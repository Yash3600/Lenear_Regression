{
 "cells": [
  {
   "cell_type": "code",
   "execution_count": 1,
   "id": "84e9d44c",
   "metadata": {},
   "outputs": [
    {
     "name": "stdout",
     "output_type": "stream",
     "text": [
      "Requirement already satisfied: numpy in c:\\users\\sap\\anaconda3\\lib\\site-packages (1.21.5)\n",
      "Note: you may need to restart the kernel to use updated packages.\n"
     ]
    }
   ],
   "source": [
    "pip install numpy"
   ]
  },
  {
   "cell_type": "code",
   "execution_count": 2,
   "id": "f21dd2f6",
   "metadata": {},
   "outputs": [
    {
     "ename": "NameError",
     "evalue": "name 'sqrt' is not defined",
     "output_type": "error",
     "traceback": [
      "\u001b[1;31m---------------------------------------------------------------------------\u001b[0m",
      "\u001b[1;31mNameError\u001b[0m                                 Traceback (most recent call last)",
      "Input \u001b[1;32mIn [2]\u001b[0m, in \u001b[0;36m<cell line: 1>\u001b[1;34m()\u001b[0m\n\u001b[1;32m----> 1\u001b[0m std\u001b[38;5;241m=\u001b[39m\u001b[43msqrt\u001b[49m(mean(\u001b[38;5;28mabs\u001b[39m(x\u001b[38;5;241m-\u001b[39mx\u001b[38;5;241m.\u001b[39mmean())\u001b[38;5;241m*\u001b[39m\u001b[38;5;241m*\u001b[39m\u001b[38;5;241m2\u001b[39m))\n\u001b[0;32m      2\u001b[0m np\u001b[38;5;241m.\u001b[39mstd([\u001b[38;5;241m1\u001b[39m,\u001b[38;5;241m2\u001b[39m,\u001b[38;5;241m3\u001b[39m,\u001b[38;5;241m4\u001b[39m])\n",
      "\u001b[1;31mNameError\u001b[0m: name 'sqrt' is not defined"
     ]
    }
   ],
   "source": [
    "std=sqrt(mean(abs(x-x.mean())**2))\n",
    "np.std([1,2,3,4])"
   ]
  },
  {
   "cell_type": "code",
   "execution_count": 3,
   "id": "9895e82e",
   "metadata": {},
   "outputs": [],
   "source": [
    "import numpy as np"
   ]
  },
  {
   "cell_type": "code",
   "execution_count": 4,
   "id": "eb514b1c",
   "metadata": {},
   "outputs": [
    {
     "data": {
      "text/plain": [
       "1"
      ]
     },
     "execution_count": 4,
     "metadata": {},
     "output_type": "execute_result"
    }
   ],
   "source": [
    "np.amin([10,29,5,4,2,32,1])"
   ]
  },
  {
   "cell_type": "code",
   "execution_count": 5,
   "id": "7d5a7f73",
   "metadata": {},
   "outputs": [
    {
     "data": {
      "text/plain": [
       "32"
      ]
     },
     "execution_count": 5,
     "metadata": {},
     "output_type": "execute_result"
    }
   ],
   "source": [
    "np.amax([10,29,5,4,2,32,1])"
   ]
  },
  {
   "cell_type": "code",
   "execution_count": 7,
   "id": "ab5b4d3f",
   "metadata": {},
   "outputs": [
    {
     "data": {
      "text/plain": [
       "11.857142857142858"
      ]
     },
     "execution_count": 7,
     "metadata": {},
     "output_type": "execute_result"
    }
   ],
   "source": [
    "np.mean([10,29,5,4,2,32,1])"
   ]
  },
  {
   "cell_type": "code",
   "execution_count": 8,
   "id": "0941a96a",
   "metadata": {},
   "outputs": [
    {
     "data": {
      "text/plain": [
       "12.11172479670094"
      ]
     },
     "execution_count": 8,
     "metadata": {},
     "output_type": "execute_result"
    }
   ],
   "source": [
    "np.std([10,29,5,4,2,32,1]) "
   ]
  },
  {
   "cell_type": "code",
   "execution_count": 9,
   "id": "c827b3a5",
   "metadata": {},
   "outputs": [
    {
     "data": {
      "text/plain": [
       "146.69387755102042"
      ]
     },
     "execution_count": 9,
     "metadata": {},
     "output_type": "execute_result"
    }
   ],
   "source": [
    "np.var([10,29,5,4,2,32,1])"
   ]
  },
  {
   "cell_type": "code",
   "execution_count": 10,
   "id": "c58acce8",
   "metadata": {},
   "outputs": [
    {
     "data": {
      "text/plain": [
       "31"
      ]
     },
     "execution_count": 10,
     "metadata": {},
     "output_type": "execute_result"
    }
   ],
   "source": [
    "np.ptp([10,29,5,4,2,32,1])"
   ]
  },
  {
   "cell_type": "code",
   "execution_count": 11,
   "id": "6c309012",
   "metadata": {},
   "outputs": [
    {
     "data": {
      "text/plain": [
       "array([3.16227766, 5.38516481, 2.23606798, 2.        , 1.41421356,\n",
       "       5.65685425, 1.        ])"
      ]
     },
     "execution_count": 11,
     "metadata": {},
     "output_type": "execute_result"
    }
   ],
   "source": [
    "np.sqrt([10,29,5,4,2,32,1])\n"
   ]
  },
  {
   "cell_type": "code",
   "execution_count": 12,
   "id": "4c602a92",
   "metadata": {},
   "outputs": [
    {
     "data": {
      "text/plain": [
       "array([ 1,  2,  4,  5, 10, 29, 32])"
      ]
     },
     "execution_count": 12,
     "metadata": {},
     "output_type": "execute_result"
    }
   ],
   "source": [
    "np.sort([10,29,5,4,2,32,1])"
   ]
  },
  {
   "cell_type": "code",
   "execution_count": 15,
   "id": "3a3789bb",
   "metadata": {},
   "outputs": [
    {
     "data": {
      "text/plain": [
       "5.0"
      ]
     },
     "execution_count": 15,
     "metadata": {},
     "output_type": "execute_result"
    }
   ],
   "source": [
    "np.median([10,29,5,4,2,32,1])"
   ]
  },
  {
   "cell_type": "code",
   "execution_count": 19,
   "id": "d5bc7e25",
   "metadata": {},
   "outputs": [
    {
     "data": {
      "text/plain": [
       "11.857142857142858"
      ]
     },
     "execution_count": 19,
     "metadata": {},
     "output_type": "execute_result"
    }
   ],
   "source": [
    "np.average([10,29,5,4,2,32,1])"
   ]
  },
  {
   "cell_type": "code",
   "execution_count": 21,
   "id": "4f0aed19",
   "metadata": {},
   "outputs": [
    {
     "data": {
      "text/plain": [
       "array([1., 1., 1., 1., 1.])"
      ]
     },
     "execution_count": 21,
     "metadata": {},
     "output_type": "execute_result"
    }
   ],
   "source": [
    "np.ones(5)"
   ]
  },
  {
   "cell_type": "code",
   "execution_count": 22,
   "id": "eeac1a4a",
   "metadata": {},
   "outputs": [
    {
     "data": {
      "text/plain": [
       "array([0., 0., 0., 0.])"
      ]
     },
     "execution_count": 22,
     "metadata": {},
     "output_type": "execute_result"
    }
   ],
   "source": [
    "np.zeros(4)"
   ]
  },
  {
   "cell_type": "code",
   "execution_count": 27,
   "id": "f1341268",
   "metadata": {},
   "outputs": [
    {
     "data": {
      "text/plain": [
       "array([5., 5., 5., 5.])"
      ]
     },
     "execution_count": 27,
     "metadata": {},
     "output_type": "execute_result"
    }
   ],
   "source": [
    "np.zeros(4)+5"
   ]
  },
  {
   "cell_type": "code",
   "execution_count": 28,
   "id": "f5c606d9",
   "metadata": {},
   "outputs": [
    {
     "data": {
      "text/plain": [
       "array([ 1,  2,  3,  4,  5,  6,  7,  8,  9, 10])"
      ]
     },
     "execution_count": 28,
     "metadata": {},
     "output_type": "execute_result"
    }
   ],
   "source": [
    "np.arange(1,11)"
   ]
  },
  {
   "cell_type": "code",
   "execution_count": 34,
   "id": "f441f27f",
   "metadata": {},
   "outputs": [
    {
     "data": {
      "text/plain": [
       "array([ 1., 10.])"
      ]
     },
     "execution_count": 34,
     "metadata": {},
     "output_type": "execute_result"
    }
   ],
   "source": [
    "np.linspace(1,10,2)"
   ]
  },
  {
   "cell_type": "code",
   "execution_count": 35,
   "id": "2747a6c5",
   "metadata": {},
   "outputs": [
    {
     "data": {
      "text/plain": [
       "array([ 1.,  2.,  3.,  4.,  5.,  6.,  7.,  8.,  9., 10.])"
      ]
     },
     "execution_count": 35,
     "metadata": {},
     "output_type": "execute_result"
    }
   ],
   "source": [
    "np.linspace(1,10,10)"
   ]
  },
  {
   "cell_type": "code",
   "execution_count": 37,
   "id": "8e18b16e",
   "metadata": {},
   "outputs": [
    {
     "data": {
      "text/plain": [
       "array([0.54884856])"
      ]
     },
     "execution_count": 37,
     "metadata": {},
     "output_type": "execute_result"
    }
   ],
   "source": [
    "np.random.rand(1)"
   ]
  },
  {
   "cell_type": "code",
   "execution_count": 38,
   "id": "bee439dc",
   "metadata": {},
   "outputs": [
    {
     "data": {
      "text/plain": [
       "array([0.55292763, 0.94738264, 0.8942701 , 0.59404215, 0.64905968])"
      ]
     },
     "execution_count": 38,
     "metadata": {},
     "output_type": "execute_result"
    }
   ],
   "source": [
    "np.random.rand(5)"
   ]
  },
  {
   "cell_type": "code",
   "execution_count": 39,
   "id": "f941f181",
   "metadata": {},
   "outputs": [
    {
     "data": {
      "text/plain": [
       "array([0.23835697, 0.58163286, 0.94910383, 0.96766979, 0.83857509,\n",
       "       0.93208501, 0.38981781, 0.24290799, 0.0923115 ])"
      ]
     },
     "execution_count": 39,
     "metadata": {},
     "output_type": "execute_result"
    }
   ],
   "source": [
    "np.random.rand(9)"
   ]
  },
  {
   "cell_type": "code",
   "execution_count": 42,
   "id": "0fb8acec",
   "metadata": {},
   "outputs": [
    {
     "name": "stdout",
     "output_type": "stream",
     "text": [
      "[0.02505843 0.73301154 0.34874366 0.77457544 0.17980624 0.37327417\n",
      " 0.73688196 0.83075187 0.64365872]\n"
     ]
    }
   ],
   "source": [
    "arr=np.random.rand(9)\n",
    "print(arr)"
   ]
  },
  {
   "cell_type": "code",
   "execution_count": 44,
   "id": "979f16ef",
   "metadata": {},
   "outputs": [
    {
     "data": {
      "text/plain": [
       "(9,)"
      ]
     },
     "execution_count": 44,
     "metadata": {},
     "output_type": "execute_result"
    }
   ],
   "source": [
    "arr.shape"
   ]
  },
  {
   "cell_type": "code",
   "execution_count": 45,
   "id": "ff02ffec",
   "metadata": {},
   "outputs": [
    {
     "data": {
      "text/plain": [
       "array([[0.02505843, 0.73301154, 0.34874366],\n",
       "       [0.77457544, 0.17980624, 0.37327417],\n",
       "       [0.73688196, 0.83075187, 0.64365872]])"
      ]
     },
     "execution_count": 45,
     "metadata": {},
     "output_type": "execute_result"
    }
   ],
   "source": [
    "arr.reshape(3,3)"
   ]
  },
  {
   "cell_type": "code",
   "execution_count": 46,
   "id": "2464fec3",
   "metadata": {},
   "outputs": [
    {
     "name": "stdout",
     "output_type": "stream",
     "text": [
      "[[0.02505843 0.73301154 0.34874366]\n",
      " [0.77457544 0.17980624 0.37327417]\n",
      " [0.73688196 0.83075187 0.64365872]]\n"
     ]
    }
   ],
   "source": [
    "print(arr.reshape(3,3))"
   ]
  },
  {
   "cell_type": "code",
   "execution_count": 49,
   "id": "ac8956e5",
   "metadata": {},
   "outputs": [],
   "source": [
    "arr=np.random.randn(9)"
   ]
  },
  {
   "cell_type": "code",
   "execution_count": 50,
   "id": "41578a2a",
   "metadata": {},
   "outputs": [
    {
     "name": "stdout",
     "output_type": "stream",
     "text": [
      "[ 1.52885439 -0.70541734  0.782226    0.23547317 -0.88726736 -1.88929099\n",
      " -0.6928929  -0.27013184 -1.16523227]\n"
     ]
    }
   ],
   "source": [
    "print(arr)"
   ]
  },
  {
   "cell_type": "code",
   "execution_count": 51,
   "id": "aa9b647c",
   "metadata": {},
   "outputs": [
    {
     "data": {
      "text/plain": [
       "array([[ 1.52885439, -0.70541734,  0.782226  ],\n",
       "       [ 0.23547317, -0.88726736, -1.88929099],\n",
       "       [-0.6928929 , -0.27013184, -1.16523227]])"
      ]
     },
     "execution_count": 51,
     "metadata": {},
     "output_type": "execute_result"
    }
   ],
   "source": [
    "arr.reshape(3,3)"
   ]
  },
  {
   "cell_type": "code",
   "execution_count": 52,
   "id": "4ef0d21f",
   "metadata": {},
   "outputs": [
    {
     "data": {
      "text/plain": [
       "0"
      ]
     },
     "execution_count": 52,
     "metadata": {},
     "output_type": "execute_result"
    }
   ],
   "source": [
    "np.random.randint(5)"
   ]
  },
  {
   "cell_type": "code",
   "execution_count": 53,
   "id": "a122f12c",
   "metadata": {},
   "outputs": [
    {
     "data": {
      "text/plain": [
       "3"
      ]
     },
     "execution_count": 53,
     "metadata": {},
     "output_type": "execute_result"
    }
   ],
   "source": [
    "np.random.randint(1,100)"
   ]
  },
  {
   "cell_type": "code",
   "execution_count": 55,
   "id": "a37851e6",
   "metadata": {},
   "outputs": [
    {
     "data": {
      "text/plain": [
       "array([41, 20, 87, 32, 21, 88, 41, 38, 25,  9])"
      ]
     },
     "execution_count": 55,
     "metadata": {},
     "output_type": "execute_result"
    }
   ],
   "source": [
    "np.random.randint(1,100,10)"
   ]
  },
  {
   "cell_type": "code",
   "execution_count": 58,
   "id": "2e4bfb22",
   "metadata": {},
   "outputs": [
    {
     "name": "stdout",
     "output_type": "stream",
     "text": [
      "[37 84 54 97 57  7 88 69 50 80 11 77 76 23 31 88 82 71 60 77 69 99  9 66\n",
      " 83]\n"
     ]
    }
   ],
   "source": [
    "sd=np.random.randint(1,100,25)\n",
    "print(sd)"
   ]
  },
  {
   "cell_type": "code",
   "execution_count": 59,
   "id": "aa02c811",
   "metadata": {},
   "outputs": [],
   "source": [
    "arr=sd.reshape(5,5)"
   ]
  },
  {
   "cell_type": "code",
   "execution_count": 60,
   "id": "927f308e",
   "metadata": {},
   "outputs": [
    {
     "name": "stdout",
     "output_type": "stream",
     "text": [
      "[[37 84 54 97 57]\n",
      " [ 7 88 69 50 80]\n",
      " [11 77 76 23 31]\n",
      " [88 82 71 60 77]\n",
      " [69 99  9 66 83]]\n"
     ]
    }
   ],
   "source": [
    "print(arr)"
   ]
  },
  {
   "cell_type": "code",
   "execution_count": 62,
   "id": "48096ebc",
   "metadata": {},
   "outputs": [
    {
     "data": {
      "text/plain": [
       "(5, 5)"
      ]
     },
     "execution_count": 62,
     "metadata": {},
     "output_type": "execute_result"
    }
   ],
   "source": [
    "arr.shape"
   ]
  },
  {
   "cell_type": "code",
   "execution_count": 64,
   "id": "746686d4",
   "metadata": {},
   "outputs": [
    {
     "data": {
      "text/plain": [
       "array([[11, 77, 76, 23, 31],\n",
       "       [88, 82, 71, 60, 77]])"
      ]
     },
     "execution_count": 64,
     "metadata": {},
     "output_type": "execute_result"
    }
   ],
   "source": [
    "arr[2:4]"
   ]
  },
  {
   "cell_type": "code",
   "execution_count": 65,
   "id": "84f264e7",
   "metadata": {},
   "outputs": [
    {
     "data": {
      "text/plain": [
       "array([], shape=(0, 5), dtype=int32)"
      ]
     },
     "execution_count": 65,
     "metadata": {},
     "output_type": "execute_result"
    }
   ],
   "source": [
    "arr[2:2]"
   ]
  },
  {
   "cell_type": "code",
   "execution_count": 66,
   "id": "e4896d76",
   "metadata": {},
   "outputs": [
    {
     "data": {
      "text/plain": [
       "array([[11, 77, 76, 23, 31],\n",
       "       [88, 82, 71, 60, 77],\n",
       "       [69, 99,  9, 66, 83]])"
      ]
     },
     "execution_count": 66,
     "metadata": {},
     "output_type": "execute_result"
    }
   ],
   "source": [
    "arr[2:]"
   ]
  },
  {
   "cell_type": "code",
   "execution_count": 67,
   "id": "d72daa24",
   "metadata": {},
   "outputs": [
    {
     "data": {
      "text/plain": [
       "array([[76, 23, 31],\n",
       "       [71, 60, 77],\n",
       "       [ 9, 66, 83]])"
      ]
     },
     "execution_count": 67,
     "metadata": {},
     "output_type": "execute_result"
    }
   ],
   "source": [
    "arr[2:,2:]"
   ]
  },
  {
   "cell_type": "code",
   "execution_count": 68,
   "id": "3f564ce9",
   "metadata": {},
   "outputs": [
    {
     "data": {
      "text/plain": [
       "array([[76, 23],\n",
       "       [71, 60]])"
      ]
     },
     "execution_count": 68,
     "metadata": {},
     "output_type": "execute_result"
    }
   ],
   "source": [
    "arr[2:4,2:4]"
   ]
  },
  {
   "cell_type": "code",
   "execution_count": 69,
   "id": "eff290f9",
   "metadata": {},
   "outputs": [
    {
     "data": {
      "text/plain": [
       "array([[37, 84, 54, 97, 57],\n",
       "       [ 7, 88, 69, 50, 80],\n",
       "       [11, 77, 76, 23, 31],\n",
       "       [88, 82, 71, 60, 77],\n",
       "       [69, 99,  9, 66, 83]])"
      ]
     },
     "execution_count": 69,
     "metadata": {},
     "output_type": "execute_result"
    }
   ],
   "source": [
    "arr"
   ]
  },
  {
   "cell_type": "code",
   "execution_count": 70,
   "id": "b5e53d16",
   "metadata": {},
   "outputs": [
    {
     "data": {
      "text/plain": [
       "array([[77]])"
      ]
     },
     "execution_count": 70,
     "metadata": {},
     "output_type": "execute_result"
    }
   ],
   "source": [
    "arr[3:4,4:]"
   ]
  },
  {
   "cell_type": "code",
   "execution_count": 71,
   "id": "f7726fc2",
   "metadata": {},
   "outputs": [
    {
     "data": {
      "text/plain": [
       "array([[77]])"
      ]
     },
     "execution_count": 71,
     "metadata": {},
     "output_type": "execute_result"
    }
   ],
   "source": [
    "arr[3:4,4:5]"
   ]
  },
  {
   "cell_type": "code",
   "execution_count": 72,
   "id": "3c82239b",
   "metadata": {},
   "outputs": [
    {
     "data": {
      "text/plain": [
       "array([[82]])"
      ]
     },
     "execution_count": 72,
     "metadata": {},
     "output_type": "execute_result"
    }
   ],
   "source": [
    "arr[3:4,1:2]"
   ]
  },
  {
   "cell_type": "code",
   "execution_count": 74,
   "id": "f4f21a76",
   "metadata": {},
   "outputs": [
    {
     "data": {
      "text/plain": [
       "99"
      ]
     },
     "execution_count": 74,
     "metadata": {},
     "output_type": "execute_result"
    }
   ],
   "source": [
    "arr.max()"
   ]
  },
  {
   "cell_type": "code",
   "execution_count": 75,
   "id": "aa5822bf",
   "metadata": {},
   "outputs": [
    {
     "data": {
      "text/plain": [
       "7"
      ]
     },
     "execution_count": 75,
     "metadata": {},
     "output_type": "execute_result"
    }
   ],
   "source": [
    "arr.min()"
   ]
  },
  {
   "cell_type": "code",
   "execution_count": 77,
   "id": "7854097d",
   "metadata": {},
   "outputs": [
    {
     "data": {
      "text/plain": [
       "array([[6.08276253, 9.16515139, 7.34846923, 9.8488578 , 7.54983444],\n",
       "       [2.64575131, 9.38083152, 8.30662386, 7.07106781, 8.94427191],\n",
       "       [3.31662479, 8.77496439, 8.71779789, 4.79583152, 5.56776436],\n",
       "       [9.38083152, 9.05538514, 8.42614977, 7.74596669, 8.77496439],\n",
       "       [8.30662386, 9.94987437, 3.        , 8.1240384 , 9.11043358]])"
      ]
     },
     "execution_count": 77,
     "metadata": {},
     "output_type": "execute_result"
    }
   ],
   "source": [
    "np.sqrt(arr)"
   ]
  },
  {
   "cell_type": "code",
   "execution_count": 78,
   "id": "9c13fc75",
   "metadata": {},
   "outputs": [
    {
     "data": {
      "text/plain": [
       "array([[37, 84, 54, 97, 57],\n",
       "       [ 7, 88, 69, 50, 80],\n",
       "       [11, 77, 76, 23, 31],\n",
       "       [88, 82, 71, 60, 77],\n",
       "       [69, 99,  9, 66, 83]])"
      ]
     },
     "execution_count": 78,
     "metadata": {},
     "output_type": "execute_result"
    }
   ],
   "source": [
    "arr"
   ]
  },
  {
   "cell_type": "code",
   "execution_count": 79,
   "id": "463ded8b",
   "metadata": {},
   "outputs": [
    {
     "data": {
      "text/plain": [
       "array([[84, 57],\n",
       "       [88, 80],\n",
       "       [77, 31],\n",
       "       [82, 77],\n",
       "       [99, 83]])"
      ]
     },
     "execution_count": 79,
     "metadata": {},
     "output_type": "execute_result"
    }
   ],
   "source": [
    "arr[:,[1,4]]"
   ]
  },
  {
   "cell_type": "code",
   "execution_count": 80,
   "id": "afe3829c",
   "metadata": {},
   "outputs": [
    {
     "data": {
      "text/plain": [
       "array([[37, 54, 57],\n",
       "       [ 7, 69, 80],\n",
       "       [11, 76, 31],\n",
       "       [88, 71, 77],\n",
       "       [69,  9, 83]])"
      ]
     },
     "execution_count": 80,
     "metadata": {},
     "output_type": "execute_result"
    }
   ],
   "source": [
    "arr[:,0::2]"
   ]
  },
  {
   "cell_type": "code",
   "execution_count": 82,
   "id": "21d77d51",
   "metadata": {},
   "outputs": [
    {
     "data": {
      "text/plain": [
       "array([[37, 84, 54, 97, 57],\n",
       "       [11, 77, 76, 23, 31],\n",
       "       [69, 99,  9, 66, 83]])"
      ]
     },
     "execution_count": 82,
     "metadata": {},
     "output_type": "execute_result"
    }
   ],
   "source": [
    "arr[0::2,:]"
   ]
  },
  {
   "cell_type": "code",
   "execution_count": 83,
   "id": "e2197ad7",
   "metadata": {},
   "outputs": [
    {
     "data": {
      "text/plain": [
       "array([[37, 84, 54, 97, 57],\n",
       "       [ 7, 88, 69, 50, 80],\n",
       "       [11, 77, 76, 23, 31],\n",
       "       [88, 82, 71, 60, 77],\n",
       "       [69, 99,  9, 66, 83]])"
      ]
     },
     "execution_count": 83,
     "metadata": {},
     "output_type": "execute_result"
    }
   ],
   "source": [
    "arr"
   ]
  },
  {
   "cell_type": "code",
   "execution_count": 84,
   "id": "f9f43bdd",
   "metadata": {},
   "outputs": [
    {
     "data": {
      "text/plain": [
       "array([97, 50, 23, 60, 66])"
      ]
     },
     "execution_count": 84,
     "metadata": {},
     "output_type": "execute_result"
    }
   ],
   "source": [
    "arr[:,3]"
   ]
  },
  {
   "cell_type": "code",
   "execution_count": 85,
   "id": "370df185",
   "metadata": {},
   "outputs": [
    {
     "data": {
      "text/plain": [
       "array([11, 77, 76, 23, 31])"
      ]
     },
     "execution_count": 85,
     "metadata": {},
     "output_type": "execute_result"
    }
   ],
   "source": [
    "arr[2,:]"
   ]
  },
  {
   "cell_type": "code",
   "execution_count": 86,
   "id": "d82cfc7d",
   "metadata": {},
   "outputs": [],
   "source": [
    "bool_arr=arr>4"
   ]
  },
  {
   "cell_type": "code",
   "execution_count": 87,
   "id": "764cf526",
   "metadata": {},
   "outputs": [
    {
     "name": "stdout",
     "output_type": "stream",
     "text": [
      "[[ True  True  True  True  True]\n",
      " [ True  True  True  True  True]\n",
      " [ True  True  True  True  True]\n",
      " [ True  True  True  True  True]\n",
      " [ True  True  True  True  True]]\n"
     ]
    }
   ],
   "source": [
    "print(bool_arr)"
   ]
  },
  {
   "cell_type": "code",
   "execution_count": 88,
   "id": "9a34e0dd",
   "metadata": {},
   "outputs": [],
   "source": [
    "bool_arr=arr>30"
   ]
  },
  {
   "cell_type": "code",
   "execution_count": 89,
   "id": "be4e8ab2",
   "metadata": {},
   "outputs": [
    {
     "name": "stdout",
     "output_type": "stream",
     "text": [
      "[[ True  True  True  True  True]\n",
      " [False  True  True  True  True]\n",
      " [False  True  True False  True]\n",
      " [ True  True  True  True  True]\n",
      " [ True  True False  True  True]]\n"
     ]
    }
   ],
   "source": [
    "print(bool_arr)"
   ]
  },
  {
   "cell_type": "code",
   "execution_count": 90,
   "id": "9198e50d",
   "metadata": {},
   "outputs": [
    {
     "data": {
      "text/plain": [
       "array([37, 84, 54, 97, 57, 88, 69, 50, 80, 77, 76, 31, 88, 82, 71, 60, 77,\n",
       "       69, 99, 66, 83])"
      ]
     },
     "execution_count": 90,
     "metadata": {},
     "output_type": "execute_result"
    }
   ],
   "source": [
    "arr[bool_arr]"
   ]
  },
  {
   "cell_type": "code",
   "execution_count": 5,
   "id": "e8a1ddfd",
   "metadata": {},
   "outputs": [],
   "source": [
    "import numpy as np"
   ]
  },
  {
   "cell_type": "code",
   "execution_count": 6,
   "id": "e922b8b7",
   "metadata": {},
   "outputs": [],
   "source": [
    "cric_data = np.loadtxt(\"C:\\\\Users\\SAP\\Desktop\\cric_data.tsv\",skiprows=1)"
   ]
  },
  {
   "cell_type": "code",
   "execution_count": 7,
   "id": "491fc32a",
   "metadata": {},
   "outputs": [
    {
     "name": "stdout",
     "output_type": "stream",
     "text": [
      "[[  0. 100.  78. 342.]\n",
      " [  1.  11.  62. 191.]\n",
      " [  2.   8.  85. 252.]\n",
      " [  3.  71.  24. 307.]\n",
      " [  4. 104.  17. 229.]\n",
      " [  5.  18. 104. 246.]\n",
      " [  6.   8.  76. 226.]\n",
      " [  7.  86.  74. 288.]\n",
      " [  8.  12.  60. 216.]\n",
      " [  9.  25.  90. 304.]\n",
      " [ 10.  56.   6. 272.]\n",
      " [ 11.  88.  69. 302.]\n",
      " [ 12. 147.  65. 312.]\n",
      " [ 13. 121. 146. 370.]\n",
      " [ 14.  99. 110. 362.]]\n"
     ]
    }
   ],
   "source": [
    "print(cric_data)"
   ]
  },
  {
   "cell_type": "code",
   "execution_count": 10,
   "id": "80099449",
   "metadata": {},
   "outputs": [],
   "source": [
    "sachin=cric_data[:,1]\n",
    "dravid=cric_data[:,2]\n",
    "india=cric_data[:,3]"
   ]
  },
  {
   "cell_type": "code",
   "execution_count": 12,
   "id": "b712ab3e",
   "metadata": {},
   "outputs": [
    {
     "name": "stdout",
     "output_type": "stream",
     "text": [
      "run by sachin is [100.  11.   8.  71. 104.  18.   8.  86.  12.  25.  56.  88. 147. 121.\n",
      "  99.]\n",
      "-----------------------\n",
      "run by dravid is [ 78.  62.  85.  24.  17. 104.  76.  74.  60.  90.   6.  69.  65. 146.\n",
      " 110.]\n",
      "-----------------------\n",
      "run by team india is [342. 191. 252. 307. 229. 246. 226. 288. 216. 304. 272. 302. 312. 370.\n",
      " 362.]\n"
     ]
    }
   ],
   "source": [
    "print(\"run by sachin is\",sachin)\n",
    "print(\"-----------------------\")\n",
    "print(\"run by dravid is\",dravid)\n",
    "print(\"-----------------------\")\n",
    "print(\"run by team india is\",india)"
   ]
  },
  {
   "cell_type": "code",
   "execution_count": 14,
   "id": "4ee85e93",
   "metadata": {},
   "outputs": [
    {
     "name": "stdout",
     "output_type": "stream",
     "text": [
      "Mean score is 63.6\n",
      "Median score is 71.0\n",
      "-------------------------------\n"
     ]
    }
   ],
   "source": [
    "def stats(col):\n",
    "    print(\"Mean score is\",np.mean(col))\n",
    "    print(\"Median score is\",np.median(col))\n",
    "    print(\"-------------------------------\")\n",
    "stats(sachin)"
   ]
  },
  {
   "cell_type": "code",
   "execution_count": 15,
   "id": "93f6a8d1",
   "metadata": {},
   "outputs": [
    {
     "name": "stdout",
     "output_type": "stream",
     "text": [
      "Mean score is 63.6\n",
      "Median score is 71.0\n",
      "-------------------------------\n",
      "Mean score is 71.06666666666666\n",
      "Median score is 74.0\n",
      "-------------------------------\n",
      "Mean score is 281.26666666666665\n",
      "Median score is 288.0\n",
      "-------------------------------\n"
     ]
    }
   ],
   "source": [
    "def stats(col):\n",
    "    print(\"Mean score is\",np.mean(col))\n",
    "    print(\"Median score is\",np.median(col))\n",
    "    print(\"-------------------------------\")\n",
    "stats(sachin)\n",
    "stats(dravid)\n",
    "stats(india)"
   ]
  },
  {
   "cell_type": "code",
   "execution_count": 16,
   "id": "95e69daa",
   "metadata": {},
   "outputs": [
    {
     "name": "stdout",
     "output_type": "stream",
     "text": [
      "centuries score by sachin is- 4\n",
      "centuries score by dravid is- 3\n"
     ]
    }
   ],
   "source": [
    "sc=np.count_nonzero(sachin>99)\n",
    "dc=np.count_nonzero(dravid>99)\n",
    "print(\"centuries score by sachin is-\",sc)\n",
    "print(\"centuries score by dravid is-\",dc)"
   ]
  },
  {
   "cell_type": "code",
   "execution_count": 17,
   "id": "bf11682c",
   "metadata": {},
   "outputs": [
    {
     "data": {
      "text/plain": [
       "954.0"
      ]
     },
     "execution_count": 17,
     "metadata": {},
     "output_type": "execute_result"
    }
   ],
   "source": [
    "sachin.sum()"
   ]
  },
  {
   "cell_type": "code",
   "execution_count": 18,
   "id": "a29a1745",
   "metadata": {},
   "outputs": [
    {
     "data": {
      "text/plain": [
       "1066.0"
      ]
     },
     "execution_count": 18,
     "metadata": {},
     "output_type": "execute_result"
    }
   ],
   "source": [
    "dravid.sum()"
   ]
  },
  {
   "cell_type": "code",
   "execution_count": 19,
   "id": "0d7c6e0f",
   "metadata": {},
   "outputs": [
    {
     "data": {
      "text/plain": [
       "13"
      ]
     },
     "execution_count": 19,
     "metadata": {},
     "output_type": "execute_result"
    }
   ],
   "source": [
    "sachin_cumsum=np.cumsum(sachin)\n",
    "np.searchsorted(sachin_cumsum,800)"
   ]
  },
  {
   "cell_type": "code",
   "execution_count": 22,
   "id": "b96a72df",
   "metadata": {},
   "outputs": [
    {
     "data": {
      "text/plain": [
       "12"
      ]
     },
     "execution_count": 22,
     "metadata": {},
     "output_type": "execute_result"
    }
   ],
   "source": [
    "dravid_cumsum=np.cumsum(dravid)\n",
    "np.searchsorted(dravid_cumsum,800)"
   ]
  },
  {
   "cell_type": "code",
   "execution_count": 1,
   "id": "0a7c9f1e",
   "metadata": {},
   "outputs": [],
   "source": [
    "import numpy as np"
   ]
  },
  {
   "cell_type": "code",
   "execution_count": null,
   "id": "d1612700",
   "metadata": {},
   "outputs": [],
   "source": [
    "list=[11,22,33,44,55]\n",
    "list4=[]\n",
    "x=int(input('enter the indedx'))\n",
    "list4=list[x:]\n",
    "list5=list[0:x]\n",
    "print(list4+list5)"
   ]
  },
  {
   "cell_type": "code",
   "execution_count": null,
   "id": "d296c557",
   "metadata": {},
   "outputs": [],
   "source": []
  },
  {
   "cell_type": "code",
   "execution_count": null,
   "id": "f7b3e3c7",
   "metadata": {},
   "outputs": [],
   "source": []
  }
 ],
 "metadata": {
  "kernelspec": {
   "display_name": "Python 3 (ipykernel)",
   "language": "python",
   "name": "python3"
  },
  "language_info": {
   "codemirror_mode": {
    "name": "ipython",
    "version": 3
   },
   "file_extension": ".py",
   "mimetype": "text/x-python",
   "name": "python",
   "nbconvert_exporter": "python",
   "pygments_lexer": "ipython3",
   "version": "3.9.12"
  }
 },
 "nbformat": 4,
 "nbformat_minor": 5
}
